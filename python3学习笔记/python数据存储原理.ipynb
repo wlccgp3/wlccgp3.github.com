{
 "cells": [
  {
   "cell_type": "code",
   "execution_count": 2,
   "metadata": {
    "collapsed": true
   },
   "outputs": [],
   "source": [
    "# 打印所有单行变量\n",
    "from IPython.core.interactiveshell import InteractiveShell\n",
    "InteractiveShell.ast_node_interactivity = 'all'"
   ]
  },
  {
   "cell_type": "markdown",
   "metadata": {},
   "source": [
    "## python数据存储原理\n",
    "\n",
    "**变量 引用 对象**\n",
    "\n",
    "    x = 1\n",
    "\n",
    "内存中只创建了对象`1`，变量x只是贴在对象`1`的标签，`=`是赋值即引用  \n",
    "在python中一切皆对象，里面又有不可变对象和可变对象"
   ]
  },
  {
   "cell_type": "markdown",
   "metadata": {},
   "source": [
    "### 数字和字符串对象引用"
   ]
  },
  {
   "cell_type": "code",
   "execution_count": 1,
   "metadata": {},
   "outputs": [
    {
     "data": {
      "text/plain": [
       "5"
      ]
     },
     "execution_count": 1,
     "metadata": {},
     "output_type": "execute_result"
    }
   ],
   "source": [
    "a = 5  # 内存中创建了一个对象5\n",
    "b = 5\n",
    "b"
   ]
  },
  {
   "cell_type": "code",
   "execution_count": 3,
   "metadata": {},
   "outputs": [
    {
     "data": {
      "text/plain": [
       "94355413897152"
      ]
     },
     "execution_count": 3,
     "metadata": {},
     "output_type": "execute_result"
    },
    {
     "data": {
      "text/plain": [
       "94355413897152"
      ]
     },
     "execution_count": 3,
     "metadata": {},
     "output_type": "execute_result"
    }
   ],
   "source": [
    "id(a)\n",
    "id(b)  # 一个对象贴了两个标签"
   ]
  },
  {
   "cell_type": "code",
   "execution_count": 4,
   "metadata": {},
   "outputs": [
    {
     "data": {
      "text/plain": [
       "94355413897088"
      ]
     },
     "execution_count": 4,
     "metadata": {},
     "output_type": "execute_result"
    }
   ],
   "source": [
    "b = 3  # 内存中新建了一个对象3\n",
    "id(b)  # 对象引用换成了b"
   ]
  },
  {
   "cell_type": "markdown",
   "metadata": {},
   "source": [
    "### 组合对象的引用(除了数字和字符串)\n",
    "> 可以创建多个\"一样\"的对象，但是id不同"
   ]
  },
  {
   "cell_type": "code",
   "execution_count": 35,
   "metadata": {},
   "outputs": [
    {
     "data": {
      "text/plain": [
       "139981307818568"
      ]
     },
     "execution_count": 35,
     "metadata": {},
     "output_type": "execute_result"
    },
    {
     "data": {
      "text/plain": [
       "[1, 2, 3]"
      ]
     },
     "execution_count": 35,
     "metadata": {},
     "output_type": "execute_result"
    },
    {
     "data": {
      "text/plain": [
       "139981307818056"
      ]
     },
     "execution_count": 35,
     "metadata": {},
     "output_type": "execute_result"
    },
    {
     "data": {
      "text/plain": [
       "139981342889480"
      ]
     },
     "execution_count": 35,
     "metadata": {},
     "output_type": "execute_result"
    }
   ],
   "source": [
    "x = [1, 2, 3]\n",
    "id(x)  # -->\n",
    "\n",
    "y = x[:]\n",
    "y  # -->\n",
    "id(y)  # -->\n",
    "\n",
    "z = [1, 2, 3]\n",
    "id(z)  # -->"
   ]
  },
  {
   "cell_type": "markdown",
   "metadata": {},
   "source": [
    "#### 解析"
   ]
  },
  {
   "cell_type": "code",
   "execution_count": 38,
   "metadata": {},
   "outputs": [
    {
     "data": {
      "text/plain": [
       "(139981307763400, 139981307819784)"
      ]
     },
     "execution_count": 38,
     "metadata": {},
     "output_type": "execute_result"
    }
   ],
   "source": [
    "x = 'a'\n",
    "y = ['a', 1, ['a', 1]]\n",
    "\n",
    "id(y), id(y[2])  # 列表对象"
   ]
  },
  {
   "cell_type": "code",
   "execution_count": 42,
   "metadata": {},
   "outputs": [
    {
     "data": {
      "text/plain": [
       "(139981462995552, 139981462995552, 139981462995552)"
      ]
     },
     "execution_count": 42,
     "metadata": {},
     "output_type": "execute_result"
    }
   ],
   "source": [
    "id(x), id(y[0]), id(y[2][0])  # 三个 'a' id一样"
   ]
  },
  {
   "cell_type": "code",
   "execution_count": 44,
   "metadata": {},
   "outputs": [
    {
     "data": {
      "text/plain": [
       "(94355413897024, 94355413897024)"
      ]
     },
     "execution_count": 44,
     "metadata": {},
     "output_type": "execute_result"
    }
   ],
   "source": [
    "id(y[1]), id(y[2][1])  # 列表的子对象数字1"
   ]
  },
  {
   "cell_type": "code",
   "execution_count": 45,
   "metadata": {},
   "outputs": [
    {
     "data": {
      "text/plain": [
       "['a', 1]"
      ]
     },
     "execution_count": 45,
     "metadata": {},
     "output_type": "execute_result"
    },
    {
     "data": {
      "text/plain": [
       "139981307763400"
      ]
     },
     "execution_count": 45,
     "metadata": {},
     "output_type": "execute_result"
    }
   ],
   "source": [
    "# 修改列表内容\n",
    "y.remove(['a', 1])\n",
    "\n",
    "y  # -->\n",
    "id(y) #--> 因为是修改原对象，所有id不变"
   ]
  },
  {
   "cell_type": "markdown",
   "metadata": {},
   "source": [
    "#### 可变对象的浅拷贝"
   ]
  },
  {
   "cell_type": "code",
   "execution_count": 46,
   "metadata": {},
   "outputs": [
    {
     "data": {
      "text/plain": [
       "{'a': 1, 'b': [1, 2, 3]}"
      ]
     },
     "execution_count": 46,
     "metadata": {},
     "output_type": "execute_result"
    }
   ],
   "source": [
    "x = {'a':1, 'b':[1, 2, 3]}  # 最底层的对象只有1,2,3\n",
    "y = x.copy()\n",
    "y"
   ]
  },
  {
   "cell_type": "code",
   "execution_count": 51,
   "metadata": {},
   "outputs": [
    {
     "data": {
      "text/plain": [
       "(139981307688328, 139981307751112)"
      ]
     },
     "execution_count": 51,
     "metadata": {},
     "output_type": "execute_result"
    }
   ],
   "source": [
    "id(x),id(y)  # 父对象id显示不一样"
   ]
  },
  {
   "cell_type": "code",
   "execution_count": 49,
   "metadata": {},
   "outputs": [
    {
     "data": {
      "text/plain": [
       "(94355413897024, 94355413897024)"
      ]
     },
     "execution_count": 49,
     "metadata": {},
     "output_type": "execute_result"
    }
   ],
   "source": [
    "id(x['a']), id(y['a'])  # 子对象'a'的id一样"
   ]
  },
  {
   "cell_type": "code",
   "execution_count": 52,
   "metadata": {},
   "outputs": [
    {
     "data": {
      "text/plain": [
       "(139981307818056, 139981307818056)"
      ]
     },
     "execution_count": 52,
     "metadata": {},
     "output_type": "execute_result"
    }
   ],
   "source": [
    "id(x['b']), id(y['b']) # 子对象'b'的id一样"
   ]
  },
  {
   "cell_type": "code",
   "execution_count": null,
   "metadata": {
    "collapsed": true
   },
   "outputs": [],
   "source": [
    "> 从上面可以看出，浅复制只是创建一个新的父对象，子对象还是同一个对象\n",
    "\n",
    "修改字典的列表\n",
    "\n",
    "id(y['b'][1])   --> 10923584\n",
    "y['a'] = 2                           # 引用对象2\n",
    "id(y['a'])      --> 10923584\n",
    "y['b'].remove(2)\n",
    "id(y['b'])      --> 139791972639688  # 列表子对象id没有改变\n",
    "y               --> {'b': [1, 3], 'a': 1}\n",
    "x               --> {'b': [1, 3], 'a': 1}"
   ]
  },
  {
   "cell_type": "code",
   "execution_count": null,
   "metadata": {
    "collapsed": true
   },
   "outputs": [],
   "source": [
    "### 导入copy模块实现deep copy\n",
    "```\n",
    ">>> import copy\n",
    ">>> x = {'a':1, 'b':[1, 2, 3]}\n",
    ">>> y = copy.copy(x)                # 浅拷贝和前面一样\n",
    ">>> z = copy.deepcopy(x)            # 深拷贝\n",
    ">>> id(x['b'])  --> 140541619106696\n",
    ">>> id(z['b'])  --> 140541618998536 # 创建了两个列表对象\n",
    ">>> z['b'].remove(2)\n",
    ">>> x           --> {'a': 1, 'b': [1, 2, 3]}\n",
    ">>> z           --> {'a': 1, 'b': [1, 3]}\n",
    "```\n",
    "\n",
    "> deepcopy可以创建两个id不一样的可变对象，但不影响不可变对象\n",
    "\n",
    "### 变量\n",
    "python引用变量的顺序： 当前作用域局部变量->外层作用域变量->当前模块中的全局变量->python内置变量 \n",
    "global和nonlocal\n",
    "```\n",
    "a = 1           # 全局变量，可省略global关键字\n",
    "def y():\n",
    "    a = a + 1   # 全局变量可以在函数内部使用，但不能修改\n",
    "\n",
    "y()             # 报错\n",
    "```\n",
    "\n",
    "#### 变量解析规则\n",
    "在python的作用域规则里面，创建变量一定会在当前作用域里创建一个变量，但是访问或者修改变量时会先在当前作用域查找变量，没有找到匹配变量的话会依次向上在闭合的作用域里面进行查看找\n",
    "\n",
    "* 声明全局变量，如果在局部要对全局变量修改，需要在局部也要先声明该全局变量\n",
    "* 在局部如果不声明全局变量，并且不修改全局变量。则可以正常使用全局变量\n",
    "* nonlocal关键字用来在函数或其他作用域中使用外层(非全局)变量\n",
    "\n",
    "> 避免出错的办法，就是尽量不重复使用"
   ]
  }
 ],
 "metadata": {
  "hide_input": false,
  "kernelspec": {
   "display_name": "Python 3",
   "language": "python",
   "name": "python3"
  },
  "language_info": {
   "codemirror_mode": {
    "name": "ipython",
    "version": 3
   },
   "file_extension": ".py",
   "mimetype": "text/x-python",
   "name": "python",
   "nbconvert_exporter": "python",
   "pygments_lexer": "ipython3",
   "version": "3.5.4rc1"
  },
  "toc": {
   "nav_menu": {},
   "number_sections": false,
   "sideBar": true,
   "skip_h1_title": false,
   "toc_cell": false,
   "toc_position": {
    "height": "839px",
    "left": "0px",
    "right": "1651px",
    "top": "107px",
    "width": "269px"
   },
   "toc_section_display": "block",
   "toc_window_display": true
  },
  "varInspector": {
   "cols": {
    "lenName": "15",
    "lenType": "10",
    "lenVar": "60"
   },
   "kernels_config": {
    "python": {
     "delete_cmd_postfix": "",
     "delete_cmd_prefix": "del ",
     "library": "var_list.py",
     "varRefreshCmd": "print(var_dic_list())"
    },
    "r": {
     "delete_cmd_postfix": ") ",
     "delete_cmd_prefix": "rm(",
     "library": "var_list.r",
     "varRefreshCmd": "cat(var_dic_list()) "
    }
   },
   "types_to_exclude": [
    "module",
    "function",
    "builtin_function_or_method",
    "instance",
    "_Feature"
   ],
   "window_display": false
  }
 },
 "nbformat": 4,
 "nbformat_minor": 2
}
