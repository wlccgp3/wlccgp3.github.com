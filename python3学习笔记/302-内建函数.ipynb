{
 "cells": [
  {
   "cell_type": "markdown",
   "metadata": {},
   "source": [
    "## built-in function"
   ]
  },
  {
   "cell_type": "code",
   "execution_count": 1,
   "metadata": {
    "scrolled": false
   },
   "outputs": [
    {
     "data": {
      "text/plain": [
       "['ArithmeticError',\n",
       " 'AssertionError',\n",
       " 'AttributeError',\n",
       " 'BaseException',\n",
       " 'BlockingIOError',\n",
       " 'BrokenPipeError',\n",
       " 'BufferError',\n",
       " 'BytesWarning',\n",
       " 'ChildProcessError',\n",
       " 'ConnectionAbortedError',\n",
       " 'ConnectionError',\n",
       " 'ConnectionRefusedError',\n",
       " 'ConnectionResetError',\n",
       " 'DeprecationWarning',\n",
       " 'EOFError',\n",
       " 'Ellipsis',\n",
       " 'EnvironmentError',\n",
       " 'Exception',\n",
       " 'False',\n",
       " 'FileExistsError',\n",
       " 'FileNotFoundError',\n",
       " 'FloatingPointError',\n",
       " 'FutureWarning',\n",
       " 'GeneratorExit',\n",
       " 'IOError',\n",
       " 'ImportError',\n",
       " 'ImportWarning',\n",
       " 'IndentationError',\n",
       " 'IndexError',\n",
       " 'InterruptedError',\n",
       " 'IsADirectoryError',\n",
       " 'KeyError',\n",
       " 'KeyboardInterrupt',\n",
       " 'LookupError',\n",
       " 'MemoryError',\n",
       " 'NameError',\n",
       " 'None',\n",
       " 'NotADirectoryError',\n",
       " 'NotImplemented',\n",
       " 'NotImplementedError',\n",
       " 'OSError',\n",
       " 'OverflowError',\n",
       " 'PendingDeprecationWarning',\n",
       " 'PermissionError',\n",
       " 'ProcessLookupError',\n",
       " 'RecursionError',\n",
       " 'ReferenceError',\n",
       " 'ResourceWarning',\n",
       " 'RuntimeError',\n",
       " 'RuntimeWarning',\n",
       " 'StopAsyncIteration',\n",
       " 'StopIteration',\n",
       " 'SyntaxError',\n",
       " 'SyntaxWarning',\n",
       " 'SystemError',\n",
       " 'SystemExit',\n",
       " 'TabError',\n",
       " 'TimeoutError',\n",
       " 'True',\n",
       " 'TypeError',\n",
       " 'UnboundLocalError',\n",
       " 'UnicodeDecodeError',\n",
       " 'UnicodeEncodeError',\n",
       " 'UnicodeError',\n",
       " 'UnicodeTranslateError',\n",
       " 'UnicodeWarning',\n",
       " 'UserWarning',\n",
       " 'ValueError',\n",
       " 'Warning',\n",
       " 'ZeroDivisionError',\n",
       " '__IPYTHON__',\n",
       " '__build_class__',\n",
       " '__debug__',\n",
       " '__doc__',\n",
       " '__import__',\n",
       " '__loader__',\n",
       " '__name__',\n",
       " '__package__',\n",
       " '__spec__',\n",
       " 'abs',\n",
       " 'all',\n",
       " 'any',\n",
       " 'ascii',\n",
       " 'bin',\n",
       " 'bool',\n",
       " 'bytearray',\n",
       " 'bytes',\n",
       " 'callable',\n",
       " 'chr',\n",
       " 'classmethod',\n",
       " 'compile',\n",
       " 'complex',\n",
       " 'copyright',\n",
       " 'credits',\n",
       " 'delattr',\n",
       " 'dict',\n",
       " 'dir',\n",
       " 'display',\n",
       " 'divmod',\n",
       " 'enumerate',\n",
       " 'eval',\n",
       " 'exec',\n",
       " 'filter',\n",
       " 'float',\n",
       " 'format',\n",
       " 'frozenset',\n",
       " 'get_ipython',\n",
       " 'getattr',\n",
       " 'globals',\n",
       " 'hasattr',\n",
       " 'hash',\n",
       " 'help',\n",
       " 'hex',\n",
       " 'id',\n",
       " 'input',\n",
       " 'int',\n",
       " 'isinstance',\n",
       " 'issubclass',\n",
       " 'iter',\n",
       " 'len',\n",
       " 'license',\n",
       " 'list',\n",
       " 'locals',\n",
       " 'map',\n",
       " 'max',\n",
       " 'memoryview',\n",
       " 'min',\n",
       " 'next',\n",
       " 'object',\n",
       " 'oct',\n",
       " 'open',\n",
       " 'ord',\n",
       " 'pow',\n",
       " 'print',\n",
       " 'property',\n",
       " 'range',\n",
       " 'repr',\n",
       " 'reversed',\n",
       " 'round',\n",
       " 'set',\n",
       " 'setattr',\n",
       " 'slice',\n",
       " 'sorted',\n",
       " 'staticmethod',\n",
       " 'str',\n",
       " 'sum',\n",
       " 'super',\n",
       " 'tuple',\n",
       " 'type',\n",
       " 'vars',\n",
       " 'zip']"
      ]
     },
     "execution_count": 1,
     "metadata": {},
     "output_type": "execute_result"
    }
   ],
   "source": [
    "dir(__builtins__)"
   ]
  },
  {
   "cell_type": "markdown",
   "metadata": {},
   "source": [
    "### 常用内建函数\n",
    "\n",
    "    ['dir', 'format', 'help', 'id', 'input', 'open', 'print', 'quit', 'range', 'type', 'input', 'zip']"
   ]
  },
  {
   "cell_type": "markdown",
   "metadata": {},
   "source": [
    "### 数学相关\n",
    "\n",
    "    ['abs', 'len', 'max', 'min', 'pow', 'round', 'reversed', 'sorted', 'sum', 'divmod']"
   ]
  },
  {
   "cell_type": "markdown",
   "metadata": {},
   "source": [
    "### 数据类型\n",
    "\n",
    "    ['bool', 'complex', 'dict', 'list', 'str', 'int', 'float', 'tuple', 'set', 'iter']"
   ]
  },
  {
   "cell_type": "markdown",
   "metadata": {},
   "source": [
    "### 函数式编程\n",
    "\n",
    "    ['filter', 'map']"
   ]
  },
  {
   "cell_type": "markdown",
   "metadata": {},
   "source": [
    "### 0-255与相应ascii码转换\n",
    "\n",
    "    ['chr', 'ord']"
   ]
  },
  {
   "cell_type": "markdown",
   "metadata": {},
   "source": [
    "### 进制转换\n",
    "\n",
    "    ['bin', 'hex', 'oct']"
   ]
  },
  {
   "cell_type": "markdown",
   "metadata": {},
   "source": [
    "### 类相关\n",
    "\n",
    "    ['callable', 'classmethod', 'delattr', 'getattr', 'hasattr', 'issubclass', 'isinstance', 'setattr', 'staticmethod', 'super']"
   ]
  },
  {
   "cell_type": "markdown",
   "metadata": {},
   "source": [
    "### 变量相关\n",
    "\n",
    "    ['globals', 'locals', 'vars']"
   ]
  },
  {
   "cell_type": "markdown",
   "metadata": {},
   "source": [
    "## 内建函数简介\n",
    "\n",
    "| 函数 | 简介 |\n",
    "| :---: | :---: |\n",
    "| abs() |　　获取绝对值\n",
    "| all() |　　接受一个迭代器，如果迭代器的所有元素都为真，那么返回True，否则返回False\n",
    "| any() |　　接受一个迭代器，如果迭代器里有一个元素为真，那么返回True,否则返回False\n",
    "| ascii() |　　调用对象的__repr__()方法，获得该方法的返回值.\n",
    "| bin() | 　将十进制数分别转换为2进制\n",
    "| oct() |   将十进制数分别转换为8进制\n",
    "| hex() |  　将十进制数分别转换为16进制。\n",
    "| bool() |　　测试一个对象是True还是False.\n",
    "| bytes() |　　将一个字符串转换成字节类型\n",
    "| str() |　　将字符类型/数值类型等转换为字符串类型\n",
    "| challable() |　　判断对象是否可以被调用，能被调用的对象就是一个callables对象，比如函数和带有__call__()的实例\n",
    "| char() |\n",
    "| ord() |　　查看十进制数对应的ASCII字符/查看某个ASCII对应的十进制数\n",
    "| classmethod() |　　用来指定一个方法为类的方法，由类直接调用执行，只有一个cls参数,执行雷的方法时，自动将调用该方法的类赋值给cls.没有此参数指定的类的方法为实例方法\n",
    "| complie() |　　将字符串编译成python能识别或可以执行的代码，也可以将文字读成字符串再编译\n",
    "| complex() |\n",
    "| delattr() |　　删除对象的属性\n",
    "| dict() |　　创建数据字典\n",
    "| dir() |　　不带参数时返回当前范围内的变量，方法和定义的类型列表，带参数时返回参数的属性，方法列表\n",
    "| divmod() |　　分别取商和余数\n",
    "| enumerate() |　　返回一个可以枚举的对象，该对象的next()方法将返回一个元组\n",
    "| eval() |　　将字符串str当成有效的表达式来求值并返回计算结果\n",
    "| exec() |　　执行字符串或complie方法编译过的字符串，没有返回值\n",
    "| filter() |　　过滤器，构造一个序列，等价于[ item for item in iterables if function(item)]，在函数中设定过滤条件，逐一循环迭代器中的元素，将返回值为True时的元素留下，形成一个filter类型数据\n",
    "| float() |　　讲一个字符串或整数转换为浮点数\n",
    "| format() |　　格式化输出字符串\n",
    "| frozenset() |　　创建一个不可修改的集合\n",
    "| getattr() |　　获取对象的属性\n",
    "| globals() |　　返回一个描述当前全局变量的字典\n",
    "| hasattr() |   判断对象object是否包含名为name的特性（hasattr是通过调用getattr(object，name)）是否抛出异常来实现的。\n",
    "| hash() |　　哈希值\n",
    "| help() |　　返回对象的帮助文档\n",
    "| id() |　　返回对象的内存地址\n",
    "| input() |　　获取用户输入内容\n",
    "| int() |　　将一个字符串或数值转换为一个普通整数\n",
    "| isinstance() |　　检查对象是否是类的对象，返回True或False\n",
    "| issubclass() |　　检查一个类是否是另一个类的子类。返回True或False\n",
    "| iter() |  返回一个iterator对象\n",
    "| len() |　　返回对象长度\n",
    "| list() |　　列表构造函数\n",
    "| locals() |　　打印当前可用的局部变量的字典\n",
    "| map( |function, iterable,...) 对于参数iterable中的每个元素都应用fuction函数，并将结果作为列表返回。\n",
    "| max() |　　返回给定元素里最大值\n",
    "| min() |　　返回给定元素里最小值\n",
    "| next() |　　返回一个可迭代数据结构（如列表）中的下一项\n",
    "| object() |  获取一个新的，无特性(geatureless)对象。Object是所有类的基类。它提供的方法将在所有的类型实例中共享。\n",
    "| open() |　　打开文件\n",
    "| pow() |　　幂函数\n",
    "| property() |\n",
    "| range() |　　根据需要生成一个指定范围的数字，可以提供你需要的控制来迭代指定的次数\n",
    "| repr() |　　将任意值转换为字符串，供计时器读取的形式\n",
    "| reversed() |　　　反转，逆序对象\n",
    "| round() |　　四舍五入\n",
    "| set() |    集合构造函数\n",
    "| setattr() |　　与getattr()相对应\n",
    "| slice() |　　切片功能\n",
    "| sorted() |　　排序\n",
    "| staticmethod() |\n",
    "| str() |　　字符串构造函数\n",
    "| sum() |　　求和\n",
    "| super() |　　调用父类的方法\n",
    "| tuple() |　　元组构造函数\n",
    "| type() |　　显示对象所属的类型\n",
    "| vars() |　　返回 `__dict__` 属性, 比如模块, 类, 实例, 或者其他 带有 `__dict__` 属性的 object\n",
    "| zip() |　　将对象逐一配对"
   ]
  }
 ],
 "metadata": {
  "hide_input": false,
  "kernelspec": {
   "display_name": "Python 3",
   "language": "python",
   "name": "python3"
  },
  "language_info": {
   "codemirror_mode": {
    "name": "ipython",
    "version": 3
   },
   "file_extension": ".py",
   "mimetype": "text/x-python",
   "name": "python",
   "nbconvert_exporter": "python",
   "pygments_lexer": "ipython3",
   "version": "3.5.4rc1"
  },
  "toc": {
   "nav_menu": {},
   "number_sections": false,
   "sideBar": true,
   "skip_h1_title": false,
   "toc_cell": false,
   "toc_position": {},
   "toc_section_display": "block",
   "toc_window_display": true
  },
  "varInspector": {
   "cols": {
    "lenName": "15",
    "lenType": "10",
    "lenVar": "60"
   },
   "kernels_config": {
    "python": {
     "delete_cmd_postfix": "",
     "delete_cmd_prefix": "del ",
     "library": "var_list.py",
     "varRefreshCmd": "print(var_dic_list())"
    },
    "r": {
     "delete_cmd_postfix": ") ",
     "delete_cmd_prefix": "rm(",
     "library": "var_list.r",
     "varRefreshCmd": "cat(var_dic_list()) "
    }
   },
   "types_to_exclude": [
    "module",
    "function",
    "builtin_function_or_method",
    "instance",
    "_Feature"
   ],
   "window_display": false
  }
 },
 "nbformat": 4,
 "nbformat_minor": 2
}
